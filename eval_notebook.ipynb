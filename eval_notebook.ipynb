{
 "cells": [
  {
   "cell_type": "code",
   "execution_count": 1,
   "metadata": {},
   "outputs": [],
   "source": [
    "from datasets import load_dataset, load_from_disk"
   ]
  },
  {
   "cell_type": "code",
   "execution_count": 2,
   "metadata": {},
   "outputs": [],
   "source": [
    "dataset = load_dataset(\"cais/mmlu\", \"abstract_algebra\")"
   ]
  },
  {
   "cell_type": "code",
   "execution_count": 3,
   "metadata": {},
   "outputs": [
    {
     "data": {
      "text/plain": [
       "DatasetDict({\n",
       "    test: Dataset({\n",
       "        features: ['question', 'subject', 'choices', 'answer'],\n",
       "        num_rows: 100\n",
       "    })\n",
       "    validation: Dataset({\n",
       "        features: ['question', 'subject', 'choices', 'answer'],\n",
       "        num_rows: 11\n",
       "    })\n",
       "    dev: Dataset({\n",
       "        features: ['question', 'subject', 'choices', 'answer'],\n",
       "        num_rows: 5\n",
       "    })\n",
       "})"
      ]
     },
     "execution_count": 3,
     "metadata": {},
     "output_type": "execute_result"
    }
   ],
   "source": [
    "dataset"
   ]
  },
  {
   "cell_type": "markdown",
   "metadata": {},
   "source": [
    "def exact_match_evaluation(predictions, references):\n",
    "    \"\"\"\n",
    "    Evaluate the exact match between predictions and references.\n",
    "\n",
    "    Args:\n",
    "    predictions (list of str): The list of generated responses.\n",
    "    references (list of str): The list of reference responses.\n",
    "\n",
    "    Returns:\n",
    "    float: The exact match accuracy.\n",
    "    \"\"\"\n",
    "    correct = 0\n",
    "    total = len(references)\n",
    "\n",
    "    for pred, ref in zip(predictions, references):\n",
    "        if pred.strip().lower() == ref.strip().lower():\n",
    "            correct += 1\n",
    "\n",
    "    return correct / total\n",
    "\n",
    "# Example usage\n",
    "predictions = [\"response1\", \"response2\", \"response3\"]\n",
    "references = [\"Response1\", \"response2\", \"different response\"]\n",
    "\n",
    "accuracy = exact_match_evaluation(predictions, references)\n",
    "print(f\"Exact Match Accuracy: {accuracy * 100:.2f}%\")\n"
   ]
  },
  {
   "cell_type": "code",
   "execution_count": null,
   "metadata": {},
   "outputs": [],
   "source": [
    "import json\n",
    "from transformers import AutoTokenizer, AutoModelForCausalLM\n",
    "import torch\n",
    "\n",
    "# Load the MMLU dataset (ensure you have downloaded it beforehand)\n",
    "# Example: {'question': \"What's 2 + 2?\", 'options': ['3', '4', '5', '6'], 'answer': '4'}\n",
    "def load_mmlu_dataset(file_path):\n",
    "    with open(file_path, 'r') as f:\n",
    "        return json.load(f)\n",
    "\n",
    "# Load the local LLM model and tokenizer\n",
    "def load_local_llm(model_name):\n",
    "    tokenizer = AutoTokenizer.from_pretrained(model_name)\n",
    "    model = AutoModelForCausalLM.from_pretrained(model_name)\n",
    "    model.eval()\n",
    "    return tokenizer, model\n",
    "\n",
    "# Generate a response for a given prompt\n",
    "def generate_response(prompt, tokenizer, model, max_length=50):\n",
    "    inputs = tokenizer(prompt, return_tensors=\"pt\")\n",
    "    with torch.no_grad():\n",
    "        outputs = model.generate(\n",
    "            inputs['input_ids'],\n",
    "            max_length=max_length,\n",
    "            temperature=0.7,  # Adjust for more/less randomness\n",
    "            num_return_sequences=1,\n",
    "            do_sample=True\n",
    "        )\n",
    "    response = tokenizer.decode(outputs[0], skip_special_tokens=True)\n",
    "    return response\n",
    "\n",
    "# Evaluate exact match accuracy\n",
    "def evaluate_mmlu(dataset, tokenizer, model):\n",
    "    total = len(dataset)\n",
    "    correct = 0\n",
    "\n",
    "    for i, entry in enumerate(dataset):\n",
    "        question = entry['question']\n",
    "        options = \"\\n\".join([f\"({chr(65 + idx)}) {opt}\" for idx, opt in enumerate(entry['options'])])\n",
    "        prompt = f\"Question: {question}\\nOptions:\\n{options}\\nAnswer:\"\n",
    "\n",
    "        response = generate_response(prompt, tokenizer, model)\n",
    "\n",
    "        # Extract the predicted answer (assume it's the first letter in response)\n",
    "        predicted_answer = response.strip().split()[0]  # Take the first token (e.g., 'A', 'B', 'C', 'D')\n",
    "        correct_answer = entry['answer']\n",
    "\n",
    "        if predicted_answer == correct_answer:\n",
    "            correct += 1\n",
    "\n",
    "        # Logging for debugging\n",
    "        print(f\"[{i + 1}/{total}] Question: {question}\")\n",
    "        print(f\"Predicted: {predicted_answer}, Correct: {correct_answer}\\n\")\n",
    "\n",
    "    accuracy = correct / total\n",
    "    return accuracy\n",
    "\n",
    "if __name__ == \"__main__\":\n",
    "    # Path to the MMLU dataset\n",
    "    mmlu_file = \"path/to/mmlu_dataset.json\"\n",
    "\n",
    "    # Path to the local model (replace with your local LLM model name)\n",
    "    model_name = \"path/to/local-llm\"\n",
    "\n",
    "    # Load dataset and model\n",
    "    dataset = load_mmlu_dataset(mmlu_file)\n",
    "    tokenizer, model = load_local_llm(model_name)\n",
    "\n",
    "    # Evaluate the model\n",
    "    accuracy = evaluate_mmlu(dataset, tokenizer, model)\n",
    "\n",
    "    print(f\"Exact Match Accuracy: {accuracy:.2%}\")\n"
   ]
  }
 ],
 "metadata": {
  "kernelspec": {
   "display_name": "sloth",
   "language": "python",
   "name": "python3"
  },
  "language_info": {
   "codemirror_mode": {
    "name": "ipython",
    "version": 3
   },
   "file_extension": ".py",
   "mimetype": "text/x-python",
   "name": "python",
   "nbconvert_exporter": "python",
   "pygments_lexer": "ipython3",
   "version": "3.10.14"
  }
 },
 "nbformat": 4,
 "nbformat_minor": 2
}
